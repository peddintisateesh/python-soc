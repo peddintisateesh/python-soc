{
 "cells": [
  {
   "cell_type": "markdown",
   "id": "b0f06859",
   "metadata": {},
   "source": [
    "# File handling\n",
    "- File is anamed location or memory used to store relative information\n",
    "    - .csv,.cpp,.py,.ipynb,.txt,.html,.mp4\n",
    "- file handling: it allows user to handle files compared to other programmming languages program is easy in python\n",
    "- compared to other languages programming in file handling is easy in python\n",
    "- read and write files along with the other files handle options to work on file\n",
    "- steps of the handling\n",
    "    - Open file\n",
    "    - Doing operations\n",
    "    - Close a file\n",
    "- open function()\n",
    "    - we use open fun() in python to open the file in read and write options\n",
    "    - to return a object we use in open function() along 2 arguments that accepts the file name and mode whether read or write\n",
    "    - syntax:: open(filename.mode)\n",
    "    \n",
    "- modes are three types to open a file\n",
    "    - read()--'r'--> to read a file\n",
    "        - file_variable.read(size)\n",
    "    - write()--'w'--> to write a file\n",
    "        - file_variable.write (data)\n",
    "    - append()--'a'--> to add a information to a file\n",
    "        - file_variable.append(data)\n",
    "- by default the file will open as 'r' mode\n",
    "- close()\n",
    "    - it is used to close afile\n",
    "    - every time you have to close a file at the end of the operations. oherwise the changes will not be applicable."
   ]
  },
  {
   "cell_type": "code",
   "execution_count": 3,
   "id": "64aac5f5",
   "metadata": {},
   "outputs": [
    {
     "name": "stdout",
     "output_type": "stream",
     "text": [
      "opened\n"
     ]
    }
   ],
   "source": [
    "f=open(\"data.txt\",'r')\n",
    "if f:\n",
    "    print(\"opened\")\n",
    "else:\n",
    "    print(\"failed\")"
   ]
  },
  {
   "cell_type": "code",
   "execution_count": 4,
   "id": "4bfb478f",
   "metadata": {},
   "outputs": [
    {
     "name": "stdout",
     "output_type": "stream",
     "text": [
      "hihi gudgghgdgjktkhgktygkgkgkjhgghgdgjktkhgktygkgkgkjh\n"
     ]
    }
   ],
   "source": [
    "f=open(\"data.txt\")\n",
    "print(f.read())\n",
    "f.close()"
   ]
  },
  {
   "cell_type": "code",
   "execution_count": 12,
   "id": "6aa04a65",
   "metadata": {},
   "outputs": [
    {
     "name": "stdout",
     "output_type": "stream",
     "text": [
      "\n"
     ]
    }
   ],
   "source": [
    "print(f.read())"
   ]
  },
  {
   "cell_type": "code",
   "execution_count": 13,
   "id": "ff440cc8",
   "metadata": {},
   "outputs": [
    {
     "name": "stdout",
     "output_type": "stream",
     "text": [
      "hihi gudgghgdgjktkhgktygkgkgkjhgghgdgjktkhgktygkgkgkjh\n"
     ]
    }
   ],
   "source": [
    "#  using with keyword automatically file will be closed\n",
    "with open(\"data.txt\")as f:\n",
    "    fr=f.read()\n",
    "    print(fr)"
   ]
  },
  {
   "cell_type": "code",
   "execution_count": 14,
   "id": "9a52dc85",
   "metadata": {},
   "outputs": [
    {
     "name": "stdout",
     "output_type": "stream",
     "text": [
      "hihi g\n"
     ]
    }
   ],
   "source": [
    " f=open(\"data.txt\")\n",
    "print(f.read(6))\n",
    "f.close()"
   ]
  },
  {
   "cell_type": "code",
   "execution_count": 15,
   "id": "4736f90f",
   "metadata": {},
   "outputs": [
    {
     "name": "stdout",
     "output_type": "stream",
     "text": [
      "18\n"
     ]
    }
   ],
   "source": [
    "f=open(\"data1.txt\",'w')\n",
    "fr=f.write(\"python programming\")\n",
    "print(fr)\n",
    "f.close()"
   ]
  },
  {
   "cell_type": "markdown",
   "id": "c453dbea",
   "metadata": {},
   "source": [
    "# file handling methods\n",
    "- open()\n",
    "- read()\n",
    "- write()\n",
    "- close()\n",
    "- readline()\n",
    "- readlines()\n",
    "- writelines()\n",
    "- seek()\n",
    "- tell()\n",
    "- Types of modes\n",
    "    - read() --'r'\n",
    "    - write--''w\n",
    "    - append--'a'"
   ]
  },
  {
   "cell_type": "code",
   "execution_count": 2,
   "id": "8cb33a63",
   "metadata": {},
   "outputs": [],
   "source": [
    "f=open(\"data.txt\")"
   ]
  },
  {
   "cell_type": "code",
   "execution_count": 3,
   "id": "3cd49720",
   "metadata": {},
   "outputs": [],
   "source": [
    "info=f.read(6)"
   ]
  },
  {
   "cell_type": "code",
   "execution_count": 4,
   "id": "c87f6373",
   "metadata": {},
   "outputs": [
    {
     "name": "stdout",
     "output_type": "stream",
     "text": [
      "hi gud\n"
     ]
    }
   ],
   "source": [
    "print(info)"
   ]
  },
  {
   "cell_type": "code",
   "execution_count": 5,
   "id": "2e5237fb",
   "metadata": {},
   "outputs": [
    {
     "name": "stdout",
     "output_type": "stream",
     "text": [
      "gghgdgjktkhgktygkgkgkjh\n"
     ]
    }
   ],
   "source": [
    "d=f.read()\n",
    "print(d)"
   ]
  },
  {
   "cell_type": "code",
   "execution_count": 6,
   "id": "b3e192ff",
   "metadata": {},
   "outputs": [],
   "source": [
    "f.close()"
   ]
  },
  {
   "cell_type": "code",
   "execution_count": 7,
   "id": "8b17904d",
   "metadata": {},
   "outputs": [],
   "source": [
    "# write mode()\n",
    "# it is used to write something in file\n",
    "# if the file not their directory the file will be create and data will be return in that file"
   ]
  },
  {
   "cell_type": "code",
   "execution_count": 14,
   "id": "d96c3cc1",
   "metadata": {},
   "outputs": [],
   "source": [
    "fo=open(\"data.txt\",'w')"
   ]
  },
  {
   "cell_type": "code",
   "execution_count": 15,
   "id": "4ebdc199",
   "metadata": {},
   "outputs": [
    {
     "data": {
      "text/plain": [
       "6"
      ]
     },
     "execution_count": 15,
     "metadata": {},
     "output_type": "execute_result"
    }
   ],
   "source": [
    "fo.write(\"hi gud\")"
   ]
  },
  {
   "cell_type": "code",
   "execution_count": 16,
   "id": "795a71fe",
   "metadata": {},
   "outputs": [],
   "source": [
    "f=open(\"data.txt\",'a')\n",
    "f=fo.write(\"gghgdgjktkhgktygkgkgkjh\")"
   ]
  },
  {
   "cell_type": "code",
   "execution_count": 17,
   "id": "4af5154a",
   "metadata": {},
   "outputs": [
    {
     "name": "stdout",
     "output_type": "stream",
     "text": [
      "23\n"
     ]
    }
   ],
   "source": [
    "print(f)"
   ]
  },
  {
   "cell_type": "code",
   "execution_count": 18,
   "id": "266dfa68",
   "metadata": {},
   "outputs": [
    {
     "name": "stdout",
     "output_type": "stream",
     "text": [
      "hi gudgghgdgjktkhgktygkgkgkjh\n",
      "\n"
     ]
    }
   ],
   "source": [
    "f=open(\"data.txt\",'r')\n",
    "s=f.readline()\n",
    "print(s)\n",
    "t=f.readline()\n",
    "print(t)"
   ]
  },
  {
   "cell_type": "code",
   "execution_count": 22,
   "id": "039e0411",
   "metadata": {},
   "outputs": [
    {
     "name": "stdout",
     "output_type": "stream",
     "text": [
      "number of lines in file: 1\n"
     ]
    }
   ],
   "source": [
    "with open(\"data.txt\",'r')as f:\n",
    "    no_of_lines=f.readlines()\n",
    "    print(\"number of lines in file:\",len(no_of_lines))"
   ]
  },
  {
   "cell_type": "code",
   "execution_count": 25,
   "id": "d62af7eb",
   "metadata": {},
   "outputs": [
    {
     "name": "stdout",
     "output_type": "stream",
     "text": [
      "number of words are: 2\n"
     ]
    }
   ],
   "source": [
    "# no of  words in the given file\n",
    "words=0\n",
    "for line in no_of_lines:\n",
    "    words_list=line.split()\n",
    "    words+=len(words_list)\n",
    "print(\"number of words are:\",words)"
   ]
  },
  {
   "cell_type": "code",
   "execution_count": null,
   "id": "545ccc4d",
   "metadata": {},
   "outputs": [],
   "source": []
  },
  {
   "cell_type": "code",
   "execution_count": null,
   "id": "310790d5",
   "metadata": {},
   "outputs": [],
   "source": []
  }
 ],
 "metadata": {
  "kernelspec": {
   "display_name": "Python 3 (ipykernel)",
   "language": "python",
   "name": "python3"
  },
  "language_info": {
   "codemirror_mode": {
    "name": "ipython",
    "version": 3
   },
   "file_extension": ".py",
   "mimetype": "text/x-python",
   "name": "python",
   "nbconvert_exporter": "python",
   "pygments_lexer": "ipython3",
   "version": "3.9.7"
  }
 },
 "nbformat": 4,
 "nbformat_minor": 5
}
