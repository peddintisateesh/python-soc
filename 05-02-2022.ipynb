{
 "cells": [
  {
   "cell_type": "markdown",
   "id": "b0f06859",
   "metadata": {},
   "source": [
    "# File handling\n",
    "- File is anamed location or memory used to store relative information\n",
    "    - .csv,.cpp,.py,.ipynb,.txt,.html,.mp4\n",
    "- file handling: it allows user to handle files compared to other programmming languages program is easy in python\n",
    "- compared to other languages programming in file handling is easy in python\n",
    "- read and write files along with the other files handle options to work on file\n",
    "- steps of the handling\n",
    "    - Open file\n",
    "    - Doing operations\n",
    "    - Close a file\n",
    "- open function()\n",
    "    - we use open fun() in python to open the file in read and write options\n",
    "    - to return a object we use in open function() along 2 arguments that accepts the file name and mode whether read or write\n",
    "    - syntax:: open(filename.mode)\n",
    "    \n",
    "- modes are three types to open a file\n",
    "    - read()--'r'--> to read a file\n",
    "        - file_variable.read(size)\n",
    "    - write()--'w'--> to write a file\n",
    "        - file_variable.write (data)\n",
    "    - append()--'a'--> to add a information to a file\n",
    "        - file_variable.append(data)\n",
    "- by default the file will open as 'r' mode\n",
    "- close()\n",
    "    - it is used to close afile\n",
    "    - every time you have to close a file at the end of the operations. oherwise the changes will not be applicable."
   ]
  },
  {
   "cell_type": "code",
   "execution_count": 3,
   "id": "64aac5f5",
   "metadata": {},
   "outputs": [
    {
     "name": "stdout",
     "output_type": "stream",
     "text": [
      "opened\n"
     ]
    }
   ],
   "source": [
    "f=open(\"data.txt\",'r')\n",
    "if f:\n",
    "    print(\"opened\")\n",
    "else:\n",
    "    print(\"failed\")"
   ]
  },
  {
   "cell_type": "code",
   "execution_count": 4,
   "id": "4bfb478f",
   "metadata": {},
   "outputs": [
    {
     "name": "stdout",
     "output_type": "stream",
     "text": [
      "hihi gudgghgdgjktkhgktygkgkgkjhgghgdgjktkhgktygkgkgkjh\n"
     ]
    }
   ],
   "source": [
    "f=open(\"data.txt\")\n",
    "print(f.read())\n",
    "f.close()"
   ]
  },
  {
   "cell_type": "code",
   "execution_count": 12,
   "id": "6aa04a65",
   "metadata": {},
   "outputs": [
    {
     "name": "stdout",
     "output_type": "stream",
     "text": [
      "\n"
     ]
    }
   ],
   "source": [
    "print(f.read())"
   ]
  },
  {
   "cell_type": "code",
   "execution_count": 13,
   "id": "ff440cc8",
   "metadata": {},
   "outputs": [
    {
     "name": "stdout",
     "output_type": "stream",
     "text": [
      "hihi gudgghgdgjktkhgktygkgkgkjhgghgdgjktkhgktygkgkgkjh\n"
     ]
    }
   ],
   "source": [
    "#  using with keyword automatically file will be closed\n",
    "with open(\"data.txt\")as f:\n",
    "    fr=f.read()\n",
    "    print(fr)"
   ]
  },
  {
   "cell_type": "code",
   "execution_count": 14,
   "id": "9a52dc85",
   "metadata": {},
   "outputs": [
    {
     "name": "stdout",
     "output_type": "stream",
     "text": [
      "hihi g\n"
     ]
    }
   ],
   "source": [
    " f=open(\"data.txt\")\n",
    "print(f.read(6))\n",
    "f.close()"
   ]
  },
  {
   "cell_type": "code",
   "execution_count": 15,
   "id": "4736f90f",
   "metadata": {},
   "outputs": [
    {
     "name": "stdout",
     "output_type": "stream",
     "text": [
      "18\n"
     ]
    }
   ],
   "source": [
    "f=open(\"data1.txt\",'w')\n",
    "fr=f.write(\"python programming\")\n",
    "print(fr)\n",
    "f.close()"
   ]
  },
  {
   "cell_type": "markdown",
   "id": "c453dbea",
   "metadata": {},
   "source": [
    "# file handling methods\n",
    "- open()\n",
    "- read()\n",
    "- write()\n",
    "- close()\n",
    "- readline()\n",
    "- readlines()\n",
    "- writelines()\n",
    "- seek()\n",
    "- tell()\n",
    "- Types of modes\n",
    "    - read() --'r'\n",
    "    - write--''w\n",
    "    - append--'a'"
   ]
  },
  {
   "cell_type": "code",
   "execution_count": 2,
   "id": "8cb33a63",
   "metadata": {},
   "outputs": [],
   "source": [
    "f=open(\"data.txt\")"
   ]
  },
  {
   "cell_type": "code",
   "execution_count": 3,
   "id": "3cd49720",
   "metadata": {},
   "outputs": [],
   "source": [
    "info=f.read(6)"
   ]
  },
  {
   "cell_type": "code",
   "execution_count": 4,
   "id": "c87f6373",
   "metadata": {},
   "outputs": [
    {
     "name": "stdout",
     "output_type": "stream",
     "text": [
      "hi gud\n"
     ]
    }
   ],
   "source": [
    "print(info)"
   ]
  },
  {
   "cell_type": "code",
   "execution_count": 5,
   "id": "2e5237fb",
   "metadata": {},
   "outputs": [
    {
     "name": "stdout",
     "output_type": "stream",
     "text": [
      "gghgdgjktkhgktygkgkgkjh\n"
     ]
    }
   ],
   "source": [
    "d=f.read()\n",
    "print(d)"
   ]
  },
  {
   "cell_type": "code",
   "execution_count": 6,
   "id": "b3e192ff",
   "metadata": {},
   "outputs": [],
   "source": [
    "f.close()"
   ]
  },
  {
   "cell_type": "code",
   "execution_count": 7,
   "id": "8b17904d",
   "metadata": {},
   "outputs": [],
   "source": [
    "# write mode()\n",
    "# it is used to write something in file\n",
    "# if the file not their directory the file will be create and data will be return in that file"
   ]
  },
  {
   "cell_type": "code",
   "execution_count": 14,
   "id": "d96c3cc1",
   "metadata": {},
   "outputs": [],
   "source": [
    "fo=open(\"data.txt\",'w')"
   ]
  },
  {
   "cell_type": "code",
   "execution_count": 15,
   "id": "4ebdc199",
   "metadata": {},
   "outputs": [
    {
     "data": {
      "text/plain": [
       "6"
      ]
     },
     "execution_count": 15,
     "metadata": {},
     "output_type": "execute_result"
    }
   ],
   "source": [
    "fo.write(\"hi gud\")"
   ]
  },
  {
   "cell_type": "code",
   "execution_count": 16,
   "id": "795a71fe",
   "metadata": {},
   "outputs": [],
   "source": [
    "f=open(\"data.txt\",'a')\n",
    "f=fo.write(\"gghgdgjktkhgktygkgkgkjh\")"
   ]
  },
  {
   "cell_type": "code",
   "execution_count": 17,
   "id": "4af5154a",
   "metadata": {},
   "outputs": [
    {
     "name": "stdout",
     "output_type": "stream",
     "text": [
      "23\n"
     ]
    }
   ],
   "source": [
    "print(f)"
   ]
  },
  {
   "cell_type": "code",
   "execution_count": 18,
   "id": "266dfa68",
   "metadata": {},
   "outputs": [
    {
     "name": "stdout",
     "output_type": "stream",
     "text": [
      "hi gudgghgdgjktkhgktygkgkgkjh\n",
      "\n"
     ]
    }
   ],
   "source": [
    "f=open(\"data.txt\",'r')\n",
    "s=f.readline()\n",
    "print(s)\n",
    "t=f.readline()\n",
    "print(t)"
   ]
  },
  {
   "cell_type": "code",
   "execution_count": 22,
   "id": "039e0411",
   "metadata": {},
   "outputs": [
    {
     "name": "stdout",
     "output_type": "stream",
     "text": [
      "number of lines in file: 1\n"
     ]
    }
   ],
   "source": [
    "with open(\"data.txt\",'r')as f:\n",
    "    no_of_lines=f.readlines()\n",
    "    print(\"number of lines in file:\",len(no_of_lines))"
   ]
  },
  {
   "cell_type": "code",
   "execution_count": 25,
   "id": "d62af7eb",
   "metadata": {},
   "outputs": [
    {
     "name": "stdout",
     "output_type": "stream",
     "text": [
      "number of words are: 2\n"
     ]
    }
   ],
   "source": [
    "# no of  words in the given file\n",
    "words=0\n",
    "for line in no_of_lines:\n",
    "    words_list=line.split()\n",
    "    words+=len(words_list)\n",
    "print(\"number of words are:\",words)"
   ]
  },
  {
   "cell_type": "markdown",
   "id": "98a0a332",
   "metadata": {},
   "source": [
    "# Functions\n",
    "- Builtin functions\n",
    "    - already existed\n",
    "    - ex:- print(),input(),len(),int()\n",
    "- userdefined functions\n",
    "    - which are defined by user\n",
    "    - ex:- any user can create the functions\n",
    "    "
   ]
  },
  {
   "cell_type": "code",
   "execution_count": null,
   "id": "310790d5",
   "metadata": {},
   "outputs": [],
   "source": [
    "def function_name(arguments): # function definition\n",
    "    statements\n",
    "    statements\n",
    "function_name(parameter) # function callinga"
   ]
  },
  {
   "cell_type": "code",
   "execution_count": 4,
   "id": "8748181b",
   "metadata": {},
   "outputs": [
    {
     "name": "stdout",
     "output_type": "stream",
     "text": [
      "5\n",
      "odd\n"
     ]
    }
   ],
   "source": [
    "# even or odd\n",
    "n=int(input())\n",
    "if n%2==0:\n",
    "    print(\"even\")\n",
    "else:\n",
    "    print(\"odd\")\n",
    "    "
   ]
  },
  {
   "cell_type": "code",
   "execution_count": 6,
   "id": "5db239c4",
   "metadata": {},
   "outputs": [
    {
     "name": "stdout",
     "output_type": "stream",
     "text": [
      "34\n",
      "even\n"
     ]
    }
   ],
   "source": [
    "def even_odd(x):\n",
    "    if(x%2==0):\n",
    "        print(\"even\")\n",
    "    else:\n",
    "        print(\"odd\")\n",
    "even_odd(int(input()))"
   ]
  },
  {
   "cell_type": "code",
   "execution_count": 2,
   "id": "218c4354",
   "metadata": {},
   "outputs": [
    {
     "name": "stdout",
     "output_type": "stream",
     "text": [
      "enter a value : 5\n",
      "prime number\n"
     ]
    }
   ],
   "source": [
    "# prime number\n",
    "def prime_check(n):\n",
    "    count=0\n",
    "    for i in range(1,n+1):\n",
    "        if n%i==0:\n",
    "            count+=1\n",
    "    if count==2:\n",
    "        print(\"prime number\")\n",
    "    else:\n",
    "        print(\"not prime\")\n",
    "prime_check(int(input(\"enter a value : \")))"
   ]
  },
  {
   "cell_type": "code",
   "execution_count": 1,
   "id": "f4b2ce56",
   "metadata": {},
   "outputs": [
    {
     "name": "stdout",
     "output_type": "stream",
     "text": [
      "Enter a number5\n"
     ]
    },
    {
     "data": {
      "text/plain": [
       "True"
      ]
     },
     "execution_count": 1,
     "metadata": {},
     "output_type": "execute_result"
    }
   ],
   "source": [
    "def is_prime(n):\n",
    "    for i in range (2,n+1):\n",
    "        if n%i==0:\n",
    "            return False\n",
    "        return True\n",
    "is_prime(int(input(\"Enter a number\")))"
   ]
  },
  {
   "cell_type": "code",
   "execution_count": 5,
   "id": "eb3d766b",
   "metadata": {},
   "outputs": [
    {
     "name": "stdout",
     "output_type": "stream",
     "text": [
      "enter an value6\n",
      "sum of the factors: 6\n",
      "perfect number\n"
     ]
    }
   ],
   "source": [
    "# perfect number: given number is equal to the sum of the \n",
    "# 6-->1+2+4(perfect number)\n",
    "# 8-->1+2+4(not a perfect number)\n",
    "def perfect_num(a):\n",
    "    fact_sum=0\n",
    "    for i in range(1,a):\n",
    "        if a%i==0:\n",
    "            fact_sum+=i\n",
    "    print(\"sum of the factors:\",fact_sum)\n",
    "    if a==fact_sum:\n",
    "        print(\"perfect number\")\n",
    "    else:\n",
    "        print(\" not perfect number\")\n",
    "perfect_num(int(input(\"enter an value\")))\n",
    "            "
   ]
  },
  {
   "cell_type": "markdown",
   "id": "5c807bcc",
   "metadata": {},
   "source": [
    "- comprehensions\n",
    "- iterations and generators\n",
    "- functional programming\n",
    "# comprehensions\n",
    "- it is a program of creating a new sequence from existing sequence\n",
    "- advantages: less code,easy to understand\n",
    "- types:\n",
    "    - list comprehension\n",
    "    - dictionary comprehension\n",
    "    - set comprehension\n",
    "    -  generator comprehension\n",
    "- List comprehension\n",
    "    - easy way to create ,more efficienet,and also run faster\n",
    "    - syntax:: [expression for item in list if condition]"
   ]
  },
  {
   "cell_type": "code",
   "execution_count": null,
   "id": "8b141064",
   "metadata": {},
   "outputs": [],
   "source": [
    "# normal list syntax:\n",
    "for item in list:\n",
    "    if condition:\n",
    "        print(\" \")\n",
    "        "
   ]
  },
  {
   "cell_type": "code",
   "execution_count": 7,
   "id": "0c96b47c",
   "metadata": {},
   "outputs": [
    {
     "name": "stdout",
     "output_type": "stream",
     "text": [
      "1 2 3 4 5 6 7 8 9 10 "
     ]
    }
   ],
   "source": [
    "for i in range(1,11):\n",
    "    print(i,end=\" \")"
   ]
  },
  {
   "cell_type": "code",
   "execution_count": 8,
   "id": "e23311cb",
   "metadata": {},
   "outputs": [
    {
     "name": "stdout",
     "output_type": "stream",
     "text": [
      "[1, 2, 3, 4, 5, 6, 7, 8, 9, 10]\n"
     ]
    }
   ],
   "source": [
    "li=[]\n",
    "for i in range(1,11):\n",
    "    li.append(i)\n",
    "print(li)"
   ]
  },
  {
   "cell_type": "code",
   "execution_count": 10,
   "id": "bfdbb32c",
   "metadata": {},
   "outputs": [
    {
     "name": "stdout",
     "output_type": "stream",
     "text": [
      "[1, 2, 3, 4, 5, 6, 7, 8, 9, 10]\n"
     ]
    }
   ],
   "source": [
    "li=[i for i in range(1,11)]\n",
    "print(li)"
   ]
  },
  {
   "cell_type": "code",
   "execution_count": 13,
   "id": "4195b697",
   "metadata": {},
   "outputs": [
    {
     "name": "stdout",
     "output_type": "stream",
     "text": [
      "[5, 10, 15, 20, 25, 30, 35, 40, 45, 50]\n"
     ]
    }
   ],
   "source": [
    "li=[i*5 for i in range(1,11)]\n",
    "print(li)"
   ]
  },
  {
   "cell_type": "code",
   "execution_count": 12,
   "id": "ad66a8ec",
   "metadata": {},
   "outputs": [
    {
     "name": "stdout",
     "output_type": "stream",
     "text": [
      "[2, 4, 6, 8, 10]\n"
     ]
    }
   ],
   "source": [
    "li=[i for i in range(1,11) if(i%2==0)]\n",
    "print(li)"
   ]
  },
  {
   "cell_type": "code",
   "execution_count": 15,
   "id": "53bdff1b",
   "metadata": {},
   "outputs": [
    {
     "name": "stdout",
     "output_type": "stream",
     "text": [
      "['odd', 2, 'odd', 4, 'odd', 6, 'odd', 8, 'odd', 10]\n"
     ]
    }
   ],
   "source": [
    "li=([i if i%2==0 else \"odd\" for i in range(1,11)])\n",
    "print(li)"
   ]
  },
  {
   "cell_type": "code",
   "execution_count": 16,
   "id": "8920e155",
   "metadata": {},
   "outputs": [
    {
     "name": "stdout",
     "output_type": "stream",
     "text": [
      "[(1, 'odd'), (2, 'even'), (3, 'odd'), (4, 'even'), (5, 'odd'), (6, 'even'), (7, 'odd'), (8, 'even'), (9, 'odd'), (10, 'even')]\n"
     ]
    }
   ],
   "source": [
    "print([(i,\"even\") if i%2==0 else(i,\"odd\")for i in range(1,11)])"
   ]
  },
  {
   "cell_type": "code",
   "execution_count": 18,
   "id": "a35e8137",
   "metadata": {},
   "outputs": [
    {
     "name": "stdout",
     "output_type": "stream",
     "text": [
      "['stay', 'home', 'stay', 'safe']\n"
     ]
    }
   ],
   "source": [
    "a=['stay home','stay safe'] # list\n",
    "li=[]\n",
    "for i in a:\n",
    "    for j in i.split():\n",
    "        li.append(j)\n",
    "print(li)"
   ]
  },
  {
   "cell_type": "code",
   "execution_count": 21,
   "id": "a1ad3ecc",
   "metadata": {},
   "outputs": [
    {
     "name": "stdout",
     "output_type": "stream",
     "text": [
      "['stay', 'home', 'stay', 'safe']\n"
     ]
    }
   ],
   "source": [
    "x=[j for i in a for j in i.split()]\n",
    "print(x)"
   ]
  },
  {
   "cell_type": "code",
   "execution_count": 23,
   "id": "2104a598",
   "metadata": {},
   "outputs": [
    {
     "data": {
      "text/plain": [
       "[[1, 2, 3, 4, 5, 6, 7, 8, 9, 10],\n",
       " [2, 4, 6, 8, 10, 12, 14, 16, 18, 20],\n",
       " [3, 6, 9, 12, 15, 18, 21, 24, 27, 30],\n",
       " [4, 8, 12, 16, 20, 24, 28, 32, 36, 40],\n",
       " [5, 10, 15, 20, 25, 30, 35, 40, 45, 50],\n",
       " [6, 12, 18, 24, 30, 36, 42, 48, 54, 60],\n",
       " [7, 14, 21, 28, 35, 42, 49, 56, 63, 70],\n",
       " [8, 16, 24, 32, 40, 48, 56, 64, 72, 80],\n",
       " [9, 18, 27, 36, 45, 54, 63, 72, 81, 90],\n",
       " [10, 20, 30, 40, 50, 60, 70, 80, 90, 100]]"
      ]
     },
     "execution_count": 23,
     "metadata": {},
     "output_type": "execute_result"
    }
   ],
   "source": [
    "a=[[i*j for i in range(1,11)] for j in range(1,11)]\n",
    "a"
   ]
  },
  {
   "cell_type": "code",
   "execution_count": 24,
   "id": "08a9f76a",
   "metadata": {},
   "outputs": [
    {
     "name": "stdout",
     "output_type": "stream",
     "text": [
      "{'n130057': 'meghana', 'n13008': 'bharathi', 'N130009': 'raghu'}\n"
     ]
    }
   ],
   "source": [
    "# Dictionary comprehension\n",
    "id_no=['n130057','n13008','N130009']\n",
    "names=['meghana','bharathi','raghu']\n",
    "c={}\n",
    "for (key,value) in zip(id_no,names):\n",
    "    c[key]=value\n",
    "print(c)"
   ]
  },
  {
   "cell_type": "code",
   "execution_count": 25,
   "id": "5b87ae87",
   "metadata": {},
   "outputs": [
    {
     "data": {
      "text/plain": [
       "{1: 2, 2: 4, 3: 6, 4: 8, 5: 10, 6: 12, 7: 14, 8: 16, 9: 18, 10: 20}"
      ]
     },
     "execution_count": 25,
     "metadata": {},
     "output_type": "execute_result"
    }
   ],
   "source": [
    "d={i:i*2 for i in range(1,11)}\n",
    "d"
   ]
  },
  {
   "cell_type": "code",
   "execution_count": 26,
   "id": "907e60dc",
   "metadata": {},
   "outputs": [
    {
     "data": {
      "text/plain": [
       "{'o': 4, 'p': 3, 'i': 1, 'c': 1}"
      ]
     },
     "execution_count": 26,
     "metadata": {},
     "output_type": "execute_result"
    }
   ],
   "source": [
    "li=['o','o','o','o','p','p','p','i','c']\n",
    "{i:li.count(i)for i in li}"
   ]
  },
  {
   "cell_type": "code",
   "execution_count": 30,
   "id": "92160ccd",
   "metadata": {},
   "outputs": [
    {
     "name": "stdout",
     "output_type": "stream",
     "text": [
      "{0: 'A', 1: 'B', 2: 'C', 3: 'D', 4: 'E', 5: 'F', 6: 'G', 7: 'H', 8: 'I', 9: 'J', 10: 'K'}\n"
     ]
    }
   ],
   "source": [
    "# {0:A 1:B 3:C 4:D}\n",
    "d={i:chr(65+i)for i in range(11)}\n",
    "print(d)"
   ]
  },
  {
   "cell_type": "code",
   "execution_count": 31,
   "id": "e12fb5f9",
   "metadata": {},
   "outputs": [
    {
     "data": {
      "text/plain": [
       "{'sindu': 5, 'swathi': 6, 'vanitha': 7}"
      ]
     },
     "execution_count": 31,
     "metadata": {},
     "output_type": "execute_result"
    }
   ],
   "source": [
    "names=['sindu','swathi','vanitha']\n",
    "d={i:len(i)for i in names}\n",
    "d"
   ]
  },
  {
   "cell_type": "code",
   "execution_count": 32,
   "id": "476c10d9",
   "metadata": {},
   "outputs": [
    {
     "data": {
      "text/plain": [
       "{6, 12, 18, 24, 30}"
      ]
     },
     "execution_count": 32,
     "metadata": {},
     "output_type": "execute_result"
    }
   ],
   "source": [
    "# set comprehension\n",
    "s={i*3 for i in range(1,11) if i%2==0}\n",
    "s"
   ]
  },
  {
   "cell_type": "code",
   "execution_count": 33,
   "id": "0e5cbb15",
   "metadata": {},
   "outputs": [
    {
     "data": {
      "text/plain": [
       "{6, 12, 18, 24}"
      ]
     },
     "execution_count": 33,
     "metadata": {},
     "output_type": "execute_result"
    }
   ],
   "source": [
    "s={i*3 for i in[1,2,3,4,5,6,7,8,9,.10] if i%2==0}\n",
    "s"
   ]
  },
  {
   "cell_type": "code",
   "execution_count": 36,
   "id": "e9d029dd",
   "metadata": {},
   "outputs": [
    {
     "data": {
      "text/plain": [
       "<generator object <genexpr> at 0x00000075DB454B30>"
      ]
     },
     "execution_count": 36,
     "metadata": {},
     "output_type": "execute_result"
    }
   ],
   "source": [
    "# generator comprehension\n",
    "c=(i*3 for i in range(5))\n",
    "c"
   ]
  },
  {
   "cell_type": "markdown",
   "id": "9ec6fd28",
   "metadata": {},
   "source": [
    "# iterators and generators\n",
    "- iterator: iter is an object in python .it contains no of elements\n",
    "- 2 methods\n",
    "    - iter\n",
    "    - next\n",
    "- list,tuple,dict these all are iterable objects"
   ]
  },
  {
   "cell_type": "code",
   "execution_count": 37,
   "id": "62ffd45e",
   "metadata": {},
   "outputs": [
    {
     "name": "stdout",
     "output_type": "stream",
     "text": [
      "p\n",
      "y\n",
      "t\n",
      "h\n",
      "o\n",
      "n\n"
     ]
    }
   ],
   "source": [
    "a=\"python\"\n",
    "for i in a:\n",
    "    print(i)"
   ]
  },
  {
   "cell_type": "code",
   "execution_count": 38,
   "id": "f660abf9",
   "metadata": {},
   "outputs": [
    {
     "name": "stdout",
     "output_type": "stream",
     "text": [
      "<str_iterator object at 0x00000075DC39E7C0>\n",
      "p\n",
      "y\n",
      "t\n"
     ]
    }
   ],
   "source": [
    "s=iter('python')\n",
    "print(s)\n",
    "print(next(s))\n",
    "print(next(s))\n",
    "print(next(s))"
   ]
  },
  {
   "cell_type": "markdown",
   "id": "6e454f2e",
   "metadata": {},
   "source": [
    "# generators\n",
    "- Generator can be used to either function are comprehension\n",
    "- it returns a iterator or objects\n",
    "- in generator 'yield' can be used in place of return"
   ]
  },
  {
   "cell_type": "code",
   "execution_count": 39,
   "id": "7ab1f7ad",
   "metadata": {},
   "outputs": [
    {
     "data": {
      "text/plain": [
       "'e'"
      ]
     },
     "execution_count": 39,
     "metadata": {},
     "output_type": "execute_result"
    }
   ],
   "source": [
    "def python():\n",
    "    return 'e'\n",
    "    print('place')\n",
    "python()"
   ]
  },
  {
   "cell_type": "code",
   "execution_count": 40,
   "id": "98da2a6a",
   "metadata": {},
   "outputs": [
    {
     "name": "stdout",
     "output_type": "stream",
     "text": [
      "mango\n",
      "program\n",
      "sdc\n"
     ]
    }
   ],
   "source": [
    "def python():\n",
    "    yield 'mango'\n",
    "    yield 'program'\n",
    "    yield 'sdc'\n",
    "#python\n",
    "for ch in python():\n",
    "    print(ch)"
   ]
  },
  {
   "cell_type": "markdown",
   "id": "dffb2efc",
   "metadata": {},
   "source": [
    "# Functional programming\n",
    "- lambda\n",
    "- map\n",
    "- filter\n",
    "- reduse"
   ]
  },
  {
   "cell_type": "markdown",
   "id": "19af4975",
   "metadata": {},
   "source": [
    "# lambda \n",
    "- anonymous function or single line function\n",
    "- single expression,no of arguments\n",
    "- syntax:: lamda arguments:expression"
   ]
  },
  {
   "cell_type": "code",
   "execution_count": 42,
   "id": "cd599f22",
   "metadata": {},
   "outputs": [
    {
     "data": {
      "text/plain": [
       "9"
      ]
     },
     "execution_count": 42,
     "metadata": {},
     "output_type": "execute_result"
    }
   ],
   "source": [
    "def add(a,b):\n",
    "    return a+b\n",
    "add(4,5)"
   ]
  },
  {
   "cell_type": "code",
   "execution_count": 45,
   "id": "04d4f605",
   "metadata": {},
   "outputs": [
    {
     "name": "stdout",
     "output_type": "stream",
     "text": [
      "9\n"
     ]
    }
   ],
   "source": [
    "b=lambda a,b:a+b\n",
    "print(b(4,5))"
   ]
  },
  {
   "cell_type": "markdown",
   "id": "d1933a4b",
   "metadata": {},
   "source": [
    "# map\n",
    "- syntax:map(function.iterable)"
   ]
  },
  {
   "cell_type": "code",
   "execution_count": 46,
   "id": "6aaa6ace",
   "metadata": {},
   "outputs": [
    {
     "data": {
      "text/plain": [
       "{2, 4, 6, 8, 10, 12, 14}"
      ]
     },
     "execution_count": 46,
     "metadata": {},
     "output_type": "execute_result"
    }
   ],
   "source": [
    "s=set(map(lambda i:i*2,[1,2,3,4,5,6,7]))\n",
    "s"
   ]
  },
  {
   "cell_type": "code",
   "execution_count": 47,
   "id": "37e59e69",
   "metadata": {},
   "outputs": [],
   "source": [
    "def mul(i):\n",
    "    return i*3"
   ]
  },
  {
   "cell_type": "code",
   "execution_count": 48,
   "id": "3697b239",
   "metadata": {},
   "outputs": [
    {
     "data": {
      "text/plain": [
       "[6, 9, 12, 15, 18, 21, 24]"
      ]
     },
     "execution_count": 48,
     "metadata": {},
     "output_type": "execute_result"
    }
   ],
   "source": [
    "li=list(map(mul,[2,3,4,5,6,7,8]))\n",
    "li"
   ]
  },
  {
   "cell_type": "code",
   "execution_count": null,
   "id": "1b732cb0",
   "metadata": {},
   "outputs": [],
   "source": []
  }
 ],
 "metadata": {
  "kernelspec": {
   "display_name": "Python 3 (ipykernel)",
   "language": "python",
   "name": "python3"
  },
  "language_info": {
   "codemirror_mode": {
    "name": "ipython",
    "version": 3
   },
   "file_extension": ".py",
   "mimetype": "text/x-python",
   "name": "python",
   "nbconvert_exporter": "python",
   "pygments_lexer": "ipython3",
   "version": "3.9.7"
  }
 },
 "nbformat": 4,
 "nbformat_minor": 5
}
