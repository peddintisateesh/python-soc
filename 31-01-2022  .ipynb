{
 "cells": [
  {
   "cell_type": "code",
   "execution_count": 14,
   "id": "976b2e0b",
   "metadata": {},
   "outputs": [
    {
     "name": "stdout",
     "output_type": "stream",
     "text": [
      "hi\n"
     ]
    }
   ],
   "source": [
    "print(\"hi\")"
   ]
  },
  {
   "cell_type": "markdown",
   "id": "b485aa1a",
   "metadata": {},
   "source": [
    "# Hello students\n",
    "## Hello students\n",
    "### Hello students\n",
    "#### Hello students\n",
    "##### Hello students\n",
    "###### Hello students\n"
   ]
  },
  {
   "cell_type": "markdown",
   "id": "fa008809",
   "metadata": {},
   "source": [
    "**mahi**  \n",
    "*mahi*\n",
    "***mahi***"
   ]
  },
  {
   "cell_type": "markdown",
   "id": "ffcc8a0d",
   "metadata": {},
   "source": [
    "fgfafgfgfgf\n",
    "hgshdghghkg\n",
    "hghkaghmkbhmk"
   ]
  },
  {
   "cell_type": "markdown",
   "id": "9b7ed8a3",
   "metadata": {},
   "source": [
    "iam from sri vasavi    \n",
    "iam from egt  \n",
    "iam from kakinada  "
   ]
  },
  {
   "cell_type": "markdown",
   "id": "ee30b318",
   "metadata": {},
   "source": [
    "## unorder list"
   ]
  },
  {
   "cell_type": "markdown",
   "id": "41519ad1",
   "metadata": {},
   "source": [
    "+ one  \n",
    "- two  \n",
    "* three  \n",
    "+ four\n",
    "    + five  \n",
    "    -six  \n",
    "    * seven\n",
    "        + eight   \n",
    "        - nine  \n",
    "        * ten  "
   ]
  },
  {
   "cell_type": "markdown",
   "id": "5d2a7b5b",
   "metadata": {},
   "source": [
    "## order list"
   ]
  },
  {
   "cell_type": "markdown",
   "id": "adb770ab",
   "metadata": {},
   "source": [
    "1. sat  \n",
    "2. pj  \n",
    "3. bana  \n",
    "4. kaja  \n",
    "    5. rajesh\n",
    "    6. devi  \n",
    "    7. asha\n",
    "    8. navya\n",
    "        10. ravi  \n",
    "        11. mahesh  \n",
    "        12. mahi  \n",
    "        13. subbu\n",
    "    \n"
   ]
  },
  {
   "cell_type": "markdown",
   "id": "e83bc5c5",
   "metadata": {},
   "source": [
    "## comments\n",
    "- User readable information or data\n",
    "- Comment doesnot execute\n",
    "- it is mentioned in single '#'\n",
    "- for multiple line comment mentiom in the formation of''' '''"
   ]
  },
  {
   "cell_type": "markdown",
   "id": "bc4b918e",
   "metadata": {},
   "source": [
    "## variable\n",
    "- variable is used to storing the data\n",
    "- variable starts with characters,underscore\n",
    "- variable couldnot start with numbers,special symblos,keywords"
   ]
  },
  {
   "cell_type": "markdown",
   "id": "fbff0890",
   "metadata": {},
   "source": [
    "## data types\n",
    "- int(all integer values)\n",
    "- float(integer with decimal point)\n",
    "- str(combination of characters or group of characters)\n",
    "- complex(number with real and imaginary part)\n",
    "- boolean(true,false)\n"
   ]
  },
  {
   "cell_type": "code",
   "execution_count": 16,
   "id": "5af2cb9b",
   "metadata": {},
   "outputs": [
    {
     "name": "stdout",
     "output_type": "stream",
     "text": [
      "<class 'int'>\n",
      "<class 'float'>\n",
      "<class 'str'>\n",
      "<class 'str'>\n",
      "<class 'str'>\n",
      "<class 'str'>\n",
      "<class 'bool'>\n"
     ]
    }
   ],
   "source": [
    "a=10\n",
    "b=52.69\n",
    "c=\"satish\"\n",
    "d='p'\n",
    "e=\"1+2j\"\n",
    "f=\"1+3j\"\n",
    "g=True\n",
    "print(type(a))\n",
    "print(type(b))\n",
    "print(type(c))\n",
    "print(type(d))\n",
    "print(type(e))\n",
    "print(type(f))\n",
    "print(type(g))\n"
   ]
  },
  {
   "cell_type": "code",
   "execution_count": 17,
   "id": "571a65a3",
   "metadata": {},
   "outputs": [
    {
     "name": "stdout",
     "output_type": "stream",
     "text": [
      "<class 'int'>\n"
     ]
    }
   ],
   "source": [
    "abc=45;\n",
    "print(type(abc))"
   ]
  },
  {
   "cell_type": "code",
   "execution_count": 20,
   "id": "e419c50b",
   "metadata": {},
   "outputs": [
    {
     "name": "stdout",
     "output_type": "stream",
     "text": [
      "<class 'float'>\n",
      "45.0\n"
     ]
    }
   ],
   "source": [
    "z=float(abc)\n",
    "print(type(z))\n",
    "print(z)"
   ]
  },
  {
   "cell_type": "code",
   "execution_count": 21,
   "id": "cf72d8da",
   "metadata": {},
   "outputs": [
    {
     "name": "stdout",
     "output_type": "stream",
     "text": [
      "<class 'complex'>\n",
      "(45+0j)\n"
     ]
    }
   ],
   "source": [
    "z=complex(abc)\n",
    "print(type(z))\n",
    "print(z)"
   ]
  },
  {
   "cell_type": "code",
   "execution_count": 22,
   "id": "a24a6f9c",
   "metadata": {},
   "outputs": [
    {
     "name": "stdout",
     "output_type": "stream",
     "text": [
      "<class 'float'>\n",
      "12345674.0\n"
     ]
    }
   ],
   "source": [
    "abc=\"12345674\"\n",
    "z=float(abc)\n",
    "print(type(z))\n",
    "print(z)"
   ]
  },
  {
   "cell_type": "code",
   "execution_count": 23,
   "id": "f5904a80",
   "metadata": {},
   "outputs": [
    {
     "name": "stdout",
     "output_type": "stream",
     "text": [
      "<class 'int'>\n",
      "12345674\n"
     ]
    }
   ],
   "source": [
    "z=int(abc)\n",
    "print(type(z))\n",
    "print(z)"
   ]
  },
  {
   "cell_type": "code",
   "execution_count": 24,
   "id": "e1ded6e2",
   "metadata": {},
   "outputs": [
    {
     "name": "stdout",
     "output_type": "stream",
     "text": [
      "<class 'complex'>\n",
      "(12345674+0j)\n"
     ]
    }
   ],
   "source": [
    "z=complex(abc)\n",
    "print(type(z))\n",
    "print(z)"
   ]
  },
  {
   "cell_type": "code",
   "execution_count": 25,
   "id": "62b23bd7",
   "metadata": {},
   "outputs": [
    {
     "name": "stdout",
     "output_type": "stream",
     "text": [
      "<class 'float'>\n",
      "<class 'int'>\n",
      "1234\n"
     ]
    }
   ],
   "source": [
    "vas=1234.0\n",
    "print(type(vas))\n",
    "a=int(vas)\n",
    "print(type(a))\n",
    "print(a)"
   ]
  },
  {
   "cell_type": "code",
   "execution_count": 26,
   "id": "c96e1e05",
   "metadata": {},
   "outputs": [
    {
     "name": "stdout",
     "output_type": "stream",
     "text": [
      "<class 'str'>\n",
      "1234.0\n"
     ]
    }
   ],
   "source": [
    "a=str(vas)\n",
    "print(type(a))\n",
    "print(a)"
   ]
  },
  {
   "cell_type": "code",
   "execution_count": null,
   "id": "2679a07d",
   "metadata": {},
   "outputs": [],
   "source": []
  }
 ],
 "metadata": {
  "kernelspec": {
   "display_name": "Python 3 (ipykernel)",
   "language": "python",
   "name": "python3"
  },
  "language_info": {
   "codemirror_mode": {
    "name": "ipython",
    "version": 3
   },
   "file_extension": ".py",
   "mimetype": "text/x-python",
   "name": "python",
   "nbconvert_exporter": "python",
   "pygments_lexer": "ipython3",
   "version": "3.9.7"
  }
 },
 "nbformat": 4,
 "nbformat_minor": 5
}
