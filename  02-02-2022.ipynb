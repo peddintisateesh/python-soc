{
 "cells": [
  {
   "cell_type": "markdown",
   "id": "21eb4cc7",
   "metadata": {},
   "source": [
    "# input and output methods\n",
    "- reading the data or information from the user---***input()***\n",
    "     - static input\n",
    "     - dynamical input          \n",
    "- displaying the information or data to the user---***print()***\n"
   ]
  },
  {
   "cell_type": "code",
   "execution_count": 17,
   "id": "10a94597",
   "metadata": {},
   "outputs": [
    {
     "name": "stdout",
     "output_type": "stream",
     "text": [
      "10\n",
      "20\n"
     ]
    }
   ],
   "source": [
    "a=10\n",
    "b=20\n",
    "print(a)\n",
    "print(b)\n",
    " "
   ]
  },
  {
   "cell_type": "code",
   "execution_count": 7,
   "id": "43eb5bfe",
   "metadata": {},
   "outputs": [
    {
     "name": "stdout",
     "output_type": "stream",
     "text": [
      "sateesh\n"
     ]
    },
    {
     "data": {
      "text/plain": [
       "'sateesh'"
      ]
     },
     "execution_count": 7,
     "metadata": {},
     "output_type": "execute_result"
    }
   ],
   "source": [
    "a=input()\n",
    "a"
   ]
  },
  {
   "cell_type": "code",
   "execution_count": 9,
   "id": "e34fa9c9",
   "metadata": {},
   "outputs": [
    {
     "name": "stdout",
     "output_type": "stream",
     "text": [
      "enter a value456\n"
     ]
    },
    {
     "data": {
      "text/plain": [
       "'456'"
      ]
     },
     "execution_count": 9,
     "metadata": {},
     "output_type": "execute_result"
    }
   ],
   "source": [
    "a=input(\"enter a value\")\n",
    "a"
   ]
  },
  {
   "cell_type": "code",
   "execution_count": 10,
   "id": "e9935320",
   "metadata": {},
   "outputs": [
    {
     "name": "stdout",
     "output_type": "stream",
     "text": [
      "enter a value565\n"
     ]
    },
    {
     "data": {
      "text/plain": [
       "565.0"
      ]
     },
     "execution_count": 10,
     "metadata": {},
     "output_type": "execute_result"
    }
   ],
   "source": [
    "a=float(input(\"enter a value\"))\n",
    "a"
   ]
  },
  {
   "cell_type": "code",
   "execution_count": 11,
   "id": "3a46ca70",
   "metadata": {},
   "outputs": [
    {
     "name": "stdout",
     "output_type": "stream",
     "text": [
      "enter a value456\n"
     ]
    },
    {
     "data": {
      "text/plain": [
       "(456+0j)"
      ]
     },
     "execution_count": 11,
     "metadata": {},
     "output_type": "execute_result"
    }
   ],
   "source": [
    "a=complex(input(\"enter a value\"))\n",
    "a"
   ]
  },
  {
   "cell_type": "code",
   "execution_count": 13,
   "id": "b02f4479",
   "metadata": {},
   "outputs": [
    {
     "name": "stdout",
     "output_type": "stream",
     "text": [
      "enter a value  567\n",
      "567\n"
     ]
    }
   ],
   "source": [
    "a=input(\"enter a value  \")\n",
    "print(a)"
   ]
  },
  {
   "cell_type": "code",
   "execution_count": 14,
   "id": "4028b0fe",
   "metadata": {},
   "outputs": [
    {
     "name": "stdout",
     "output_type": "stream",
     "text": [
      "Help on built-in function print in module builtins:\n",
      "\n",
      "print(...)\n",
      "    print(value, ..., sep=' ', end='\\n', file=sys.stdout, flush=False)\n",
      "    \n",
      "    Prints the values to a stream, or to sys.stdout by default.\n",
      "    Optional keyword arguments:\n",
      "    file:  a file-like object (stream); defaults to the current sys.stdout.\n",
      "    sep:   string inserted between values, default a space.\n",
      "    end:   string appended after the last value, default a newline.\n",
      "    flush: whether to forcibly flush the stream.\n",
      "\n"
     ]
    }
   ],
   "source": [
    "help(print)"
   ]
  },
  {
   "cell_type": "code",
   "execution_count": 18,
   "id": "00befb7e",
   "metadata": {},
   "outputs": [
    {
     "name": "stdout",
     "output_type": "stream",
     "text": [
      "10,20,30\n",
      "30\n"
     ]
    }
   ],
   "source": [
    "a=10\n",
    "b=20\n",
    "c=30\n",
    "print(a,b,c,sep=\",\")\n",
    "print(c)"
   ]
  },
  {
   "cell_type": "code",
   "execution_count": 24,
   "id": "3d5d6ffe",
   "metadata": {},
   "outputs": [
    {
     "name": "stdout",
     "output_type": "stream",
     "text": [
      "Enter a value5\n",
      "Enter b value6\n",
      "Enter c value7\n",
      "5$ 6$ 7%  5 6 7\n"
     ]
    }
   ],
   "source": [
    "# generate the three values from the user that values seperated with $ symbol and end with % and again print all three values\n",
    "a=input(\"Enter a value\")\n",
    "b=input(\"Enter b value\")\n",
    "c=input(\"Enter c value\")\n",
    "print(a,b,c,sep=\"$ \",end=\"%  \")\n",
    "print(a,b,c)\n"
   ]
  },
  {
   "cell_type": "markdown",
   "id": "f10797a0",
   "metadata": {},
   "source": [
    "# Operators\n",
    "- Arthmetic opertors(+,-,*,/,**,/,//,%)\n",
    "    - output for the normal divison is quotient\n",
    "    - output for the int divison or floor divison is intger part of the quotient\n",
    "    - output for the modulo divison is reminder\n",
    "- Assignment operator(=)\n",
    "- comparison operator(<,>,<=,>=,==)\n",
    "- Logical operator(and,or,not)\n",
    "- Bitwise operator(&,|,!)\n",
    "- Identity operator(is (==),isnot(!=))\n",
    "- Membership operator(in,notin)"
   ]
  },
  {
   "cell_type": "markdown",
   "id": "48af3c42",
   "metadata": {},
   "source": [
    "# Arthematic operator"
   ]
  },
  {
   "cell_type": "code",
   "execution_count": 31,
   "id": "fda3dba2",
   "metadata": {},
   "outputs": [
    {
     "name": "stdout",
     "output_type": "stream",
     "text": [
      "addition is 5\n",
      "substraction is 1\n",
      "multiplication is 6\n",
      "power is 9\n",
      "divison is 1.5\n",
      "int divison or floor divison is 1\n",
      "modulo divison is 1\n"
     ]
    }
   ],
   "source": [
    "a=3\n",
    "b=2\n",
    "print(\"addition is\",a+b)\n",
    "print(\"substraction is\",a-b)\n",
    "print(\"multiplication is\",a*b)\n",
    "print(\"power is\",a**b)\n",
    "print(\"divison is\",a/b)\n",
    "print(\"int divison or floor divison is\",a//b)\n",
    "print(\"modulo divison is\",a%b)"
   ]
  },
  {
   "cell_type": "markdown",
   "id": "64a77e52",
   "metadata": {},
   "source": [
    "# Assignment operator\n",
    "- it represents with =\n",
    "- leftside value of the opereator(=) is called as  a varaiable.\n",
    "- rightside value of the operator(=) is called as a value "
   ]
  },
  {
   "cell_type": "code",
   "execution_count": 33,
   "id": "94205702",
   "metadata": {},
   "outputs": [
    {
     "name": "stdout",
     "output_type": "stream",
     "text": [
      "20 50\n"
     ]
    }
   ],
   "source": [
    "a=20\n",
    "b=50\n",
    "print(a,b)"
   ]
  },
  {
   "cell_type": "markdown",
   "id": "b6c9cd59",
   "metadata": {},
   "source": [
    "# comparation operator"
   ]
  },
  {
   "cell_type": "code",
   "execution_count": 34,
   "id": "d065a6d2",
   "metadata": {},
   "outputs": [
    {
     "data": {
      "text/plain": [
       "False"
      ]
     },
     "execution_count": 34,
     "metadata": {},
     "output_type": "execute_result"
    }
   ],
   "source": [
    "2>5"
   ]
  },
  {
   "cell_type": "code",
   "execution_count": 35,
   "id": "5833dddd",
   "metadata": {},
   "outputs": [
    {
     "data": {
      "text/plain": [
       "True"
      ]
     },
     "execution_count": 35,
     "metadata": {},
     "output_type": "execute_result"
    }
   ],
   "source": [
    "2<5"
   ]
  },
  {
   "cell_type": "code",
   "execution_count": 36,
   "id": "6e258c84",
   "metadata": {},
   "outputs": [
    {
     "data": {
      "text/plain": [
       "True"
      ]
     },
     "execution_count": 36,
     "metadata": {},
     "output_type": "execute_result"
    }
   ],
   "source": [
    "2==2"
   ]
  },
  {
   "cell_type": "code",
   "execution_count": 40,
   "id": "0b66b96f",
   "metadata": {},
   "outputs": [
    {
     "name": "stdout",
     "output_type": "stream",
     "text": [
      "false\n"
     ]
    }
   ],
   "source": [
    "if 2>9 and 2<=6 :\n",
    "    print(\"print true or false\")\n",
    "else:\n",
    "        print(\"false\")"
   ]
  },
  {
   "cell_type": "code",
   "execution_count": 41,
   "id": "2bf04706",
   "metadata": {},
   "outputs": [
    {
     "data": {
      "text/plain": [
       "False"
      ]
     },
     "execution_count": 41,
     "metadata": {},
     "output_type": "execute_result"
    }
   ],
   "source": [
    "2>=3"
   ]
  },
  {
   "cell_type": "markdown",
   "id": "53e8f814",
   "metadata": {},
   "source": [
    "# Logical operators\n",
    "- and,or,not\n",
    "- if all inputs are true the output is true(and)\n",
    "- if any one if the output is true the output is true(or)\n",
    "- opposite operaion for the given one(not)"
   ]
  },
  {
   "cell_type": "code",
   "execution_count": 42,
   "id": "64ca6192",
   "metadata": {},
   "outputs": [
    {
     "data": {
      "text/plain": [
       "False"
      ]
     },
     "execution_count": 42,
     "metadata": {},
     "output_type": "execute_result"
    }
   ],
   "source": [
    "2<5 and 3>6"
   ]
  },
  {
   "cell_type": "code",
   "execution_count": 43,
   "id": "7d8e0acf",
   "metadata": {},
   "outputs": [
    {
     "data": {
      "text/plain": [
       "True"
      ]
     },
     "execution_count": 43,
     "metadata": {},
     "output_type": "execute_result"
    }
   ],
   "source": [
    "3>6 or 3<9"
   ]
  },
  {
   "cell_type": "code",
   "execution_count": 52,
   "id": "cf167c70",
   "metadata": {},
   "outputs": [
    {
     "data": {
      "text/plain": [
       "False"
      ]
     },
     "execution_count": 52,
     "metadata": {},
     "output_type": "execute_result"
    }
   ],
   "source": [
    "a=100\n",
    "not a"
   ]
  },
  {
   "cell_type": "markdown",
   "id": "5bd9716b",
   "metadata": {},
   "source": [
    "# Bitwise operator"
   ]
  },
  {
   "cell_type": "code",
   "execution_count": 54,
   "id": "840243c4",
   "metadata": {},
   "outputs": [
    {
     "data": {
      "text/plain": [
       "2"
      ]
     },
     "execution_count": 54,
     "metadata": {},
     "output_type": "execute_result"
    }
   ],
   "source": [
    "2 & 3\n",
    "# 2 - 0 0 1 0\n",
    "# 3 - 0 0 1 1\n",
    "# -------------\n",
    "#   - 0 0 1 1"
   ]
  },
  {
   "cell_type": "code",
   "execution_count": 55,
   "id": "10e26425",
   "metadata": {},
   "outputs": [
    {
     "data": {
      "text/plain": [
       "3"
      ]
     },
     "execution_count": 55,
     "metadata": {},
     "output_type": "execute_result"
    }
   ],
   "source": [
    "2 | 3"
   ]
  },
  {
   "cell_type": "code",
   "execution_count": 56,
   "id": "8570402d",
   "metadata": {},
   "outputs": [
    {
     "data": {
      "text/plain": [
       "1"
      ]
     },
     "execution_count": 56,
     "metadata": {},
     "output_type": "execute_result"
    }
   ],
   "source": [
    "2^3"
   ]
  },
  {
   "cell_type": "code",
   "execution_count": 57,
   "id": "3837e24f",
   "metadata": {},
   "outputs": [
    {
     "data": {
      "text/plain": [
       "0"
      ]
     },
     "execution_count": 57,
     "metadata": {},
     "output_type": "execute_result"
    }
   ],
   "source": [
    "2>>3"
   ]
  },
  {
   "cell_type": "code",
   "execution_count": 58,
   "id": "4102c689",
   "metadata": {},
   "outputs": [
    {
     "data": {
      "text/plain": [
       "16"
      ]
     },
     "execution_count": 58,
     "metadata": {},
     "output_type": "execute_result"
    }
   ],
   "source": [
    "2<<3\n"
   ]
  },
  {
   "cell_type": "markdown",
   "id": "c7204d30",
   "metadata": {},
   "source": [
    "# identity operator"
   ]
  },
  {
   "cell_type": "code",
   "execution_count": 61,
   "id": "f7612717",
   "metadata": {},
   "outputs": [
    {
     "name": "stderr",
     "output_type": "stream",
     "text": [
      "<>:1: SyntaxWarning: \"is\" with a literal. Did you mean \"==\"?\n",
      "<>:1: SyntaxWarning: \"is not\" with a literal. Did you mean \"!=\"?\n",
      "<>:1: SyntaxWarning: \"is\" with a literal. Did you mean \"==\"?\n",
      "<>:1: SyntaxWarning: \"is not\" with a literal. Did you mean \"!=\"?\n",
      "C:\\Users\\EFLAB\\AppData\\Local\\Temp/ipykernel_4076/1988167162.py:1: SyntaxWarning: \"is\" with a literal. Did you mean \"==\"?\n",
      "  a is 100 and a is not 100\n",
      "C:\\Users\\EFLAB\\AppData\\Local\\Temp/ipykernel_4076/1988167162.py:1: SyntaxWarning: \"is not\" with a literal. Did you mean \"!=\"?\n",
      "  a is 100 and a is not 100\n"
     ]
    },
    {
     "data": {
      "text/plain": [
       "False"
      ]
     },
     "execution_count": 61,
     "metadata": {},
     "output_type": "execute_result"
    }
   ],
   "source": [
    "a is 100 and a is not 100"
   ]
  },
  {
   "cell_type": "code",
   "execution_count": 64,
   "id": "74e1874b",
   "metadata": {},
   "outputs": [
    {
     "data": {
      "text/plain": [
       "False"
      ]
     },
     "execution_count": 64,
     "metadata": {},
     "output_type": "execute_result"
    }
   ],
   "source": [
    "a==100 and a!=100"
   ]
  },
  {
   "cell_type": "code",
   "execution_count": 65,
   "id": "ec84464c",
   "metadata": {},
   "outputs": [
    {
     "data": {
      "text/plain": [
       "True"
      ]
     },
     "execution_count": 65,
     "metadata": {},
     "output_type": "execute_result"
    }
   ],
   "source": [
    "a==100 and a!=10"
   ]
  },
  {
   "cell_type": "markdown",
   "id": "fd4558f4",
   "metadata": {},
   "source": [
    "# Membership operator"
   ]
  },
  {
   "cell_type": "code",
   "execution_count": 66,
   "id": "8da3f9b9",
   "metadata": {},
   "outputs": [
    {
     "data": {
      "text/plain": [
       "True"
      ]
     },
     "execution_count": 66,
     "metadata": {},
     "output_type": "execute_result"
    }
   ],
   "source": [
    "s=[1,2,4,6,8,9,10]\n",
    "4 in s"
   ]
  },
  {
   "cell_type": "code",
   "execution_count": 68,
   "id": "c06d3577",
   "metadata": {},
   "outputs": [
    {
     "data": {
      "text/plain": [
       "True"
      ]
     },
     "execution_count": 68,
     "metadata": {},
     "output_type": "execute_result"
    }
   ],
   "source": [
    "11 not in s"
   ]
  },
  {
   "cell_type": "code",
   "execution_count": 69,
   "id": "f58d3d38",
   "metadata": {},
   "outputs": [
    {
     "data": {
      "text/plain": [
       "False"
      ]
     },
     "execution_count": 69,
     "metadata": {},
     "output_type": "execute_result"
    }
   ],
   "source": [
    "2 not in s"
   ]
  },
  {
   "cell_type": "code",
   "execution_count": 70,
   "id": "8e4c3489",
   "metadata": {},
   "outputs": [
    {
     "data": {
      "text/plain": [
       "True"
      ]
     },
     "execution_count": 70,
     "metadata": {},
     "output_type": "execute_result"
    }
   ],
   "source": [
    "6 in s"
   ]
  },
  {
   "cell_type": "code",
   "execution_count": 75,
   "id": "e3469546",
   "metadata": {},
   "outputs": [
    {
     "name": "stdout",
     "output_type": "stream",
     "text": [
      "11\n"
     ]
    }
   ],
   "source": [
    "a=10\n",
    "a=a+1\n",
    "# a+=1\n",
    "# a-=1\n",
    "# a*=1\n",
    "# a/=1\n",
    "print(a)"
   ]
  },
  {
   "cell_type": "markdown",
   "id": "6d92772f",
   "metadata": {},
   "source": [
    "# Flow control\n",
    "- Conditional statements(if,else,elif,nestedif)\n",
    "- Loops(for,while)\n",
    "- Break,Return"
   ]
  },
  {
   "cell_type": "markdown",
   "id": "3d3161e8",
   "metadata": {},
   "source": [
    "# Conditional statements"
   ]
  },
  {
   "cell_type": "code",
   "execution_count": null,
   "id": "37549c8d",
   "metadata": {},
   "outputs": [],
   "source": [
    "# if\n",
    "if(condition):"
   ]
  },
  {
   "cell_type": "code",
   "execution_count": null,
   "id": "d0a3f592",
   "metadata": {},
   "outputs": [],
   "source": [
    "#if - else\n",
    "if(condition):\n",
    "    statement 1\n",
    "    statement 2\n",
    "    statement 3\n",
    "    -----------\n",
    "    satement n\n",
    "else:\n",
    "    statement 1\n",
    "    statement 2\n",
    "    statement 3\n",
    "    -------------\n",
    "    statement n\n",
    "    "
   ]
  },
  {
   "cell_type": "code",
   "execution_count": 93,
   "id": "3d188625",
   "metadata": {},
   "outputs": [
    {
     "name": "stdout",
     "output_type": "stream",
     "text": [
      "Enter a value: 10\n",
      "a is greater value\n"
     ]
    }
   ],
   "source": [
    "a=int(input(\"Enter a value: \"))\n",
    "if a>2:\n",
    "    print(\"a is greater value\")\n",
    "else:\n",
    "    print(\"False\")"
   ]
  },
  {
   "cell_type": "code",
   "execution_count": 87,
   "id": "05054fd2",
   "metadata": {},
   "outputs": [
    {
     "name": "stdout",
     "output_type": "stream",
     "text": [
      "Enter n value: 5\n",
      "odd\n"
     ]
    }
   ],
   "source": [
    "# given number is even or odd\n",
    "n=int(input(\"Enter n value: \"))\n",
    "if(n%2==0):\n",
    "    print(\" even number\")\n",
    "else:\n",
    "    print(\"odd\")"
   ]
  },
  {
   "cell_type": "code",
   "execution_count": null,
   "id": "ce8094d5",
   "metadata": {},
   "outputs": [],
   "source": [
    "# given number is positive or negative or zero\n"
   ]
  },
  {
   "cell_type": "code",
   "execution_count": 98,
   "id": "f200cce7",
   "metadata": {},
   "outputs": [
    {
     "name": "stdout",
     "output_type": "stream",
     "text": [
      "Enter a value : 5\n",
      "a is positive\n"
     ]
    }
   ],
   "source": [
    "a=int(input(\"Enter a value : \"))\n",
    "if(a==0):\n",
    "    print(\" a is equal to zero\")\n",
    "elif(a>0):\n",
    "    print(\"a is positive\")\n",
    "else:\n",
    "    print(\" ais negative\")"
   ]
  },
  {
   "cell_type": "code",
   "execution_count": 110,
   "id": "32f3e06b",
   "metadata": {},
   "outputs": [
    {
     "name": "stdout",
     "output_type": "stream",
     "text": [
      "Enter a value16\n",
      "valid number\n"
     ]
    }
   ],
   "source": [
    "# number is divisible by 2 but not 10\n",
    "a=int(input(\"Enter a value\"))\n",
    "if(a%2==0 and a%10!=0):\n",
    "    print(\"valid number\")\n",
    "else:\n",
    "    print(\"invalid number\")\n",
    "    \n",
    "    "
   ]
  },
  {
   "cell_type": "code",
   "execution_count": null,
   "id": "688f0770",
   "metadata": {},
   "outputs": [],
   "source": [
    "a=int(input()\n",
    "if() "
   ]
  },
  {
   "cell_type": "markdown",
   "id": "4c2fa934",
   "metadata": {},
   "source": [
    "# Range\n",
    "- syntax for the range is(start,endvalue,stepvalue)\n",
    "- starting value is inclusive and ending value is exclusive"
   ]
  },
  {
   "cell_type": "code",
   "execution_count": null,
   "id": "33b5a36b",
   "metadata": {},
   "outputs": [],
   "source": [
    "range(start,end,step)"
   ]
  },
  {
   "cell_type": "code",
   "execution_count": 113,
   "id": "9b68b02b",
   "metadata": {},
   "outputs": [
    {
     "data": {
      "text/plain": [
       "range(10, 20, 21)"
      ]
     },
     "execution_count": 113,
     "metadata": {},
     "output_type": "execute_result"
    }
   ],
   "source": [
    "range(10,20,21)\n",
    "# 10,11,12,13,14,15,16,17,18,19\n",
    "range(20,30,2)\n",
    "# 20,22,24,26,28\n",
    "range(20,41,5)\n",
    "# 25,30,35,40\n",
    "range(50)\n",
    "# consider as start value\n",
    "range(20,30)\n",
    "# consider as start and end value\n",
    "range(10,1,-1)\n",
    "# reverse print"
   ]
  },
  {
   "cell_type": "code",
   "execution_count": 114,
   "id": "3e83738f",
   "metadata": {},
   "outputs": [
    {
     "data": {
      "text/plain": [
       "[10, 11, 12, 13, 14, 15, 16, 17, 18, 19]"
      ]
     },
     "execution_count": 114,
     "metadata": {},
     "output_type": "execute_result"
    }
   ],
   "source": [
    "list(range(10,20,1))"
   ]
  },
  {
   "cell_type": "code",
   "execution_count": 115,
   "id": "576b20af",
   "metadata": {},
   "outputs": [
    {
     "data": {
      "text/plain": [
       "[10, 12, 14, 16, 18]"
      ]
     },
     "execution_count": 115,
     "metadata": {},
     "output_type": "execute_result"
    }
   ],
   "source": [
    "list(range(10,20,2))"
   ]
  },
  {
   "cell_type": "code",
   "execution_count": 116,
   "id": "6e675dda",
   "metadata": {},
   "outputs": [
    {
     "data": {
      "text/plain": [
       "[0, 1, 2, 3, 4, 5, 6, 7, 8, 9]"
      ]
     },
     "execution_count": 116,
     "metadata": {},
     "output_type": "execute_result"
    }
   ],
   "source": [
    "list(range(10))"
   ]
  },
  {
   "cell_type": "code",
   "execution_count": 117,
   "id": "eaa23e5d",
   "metadata": {},
   "outputs": [
    {
     "data": {
      "text/plain": [
       "[10, 11, 12, 13, 14, 15, 16, 17, 18, 19]"
      ]
     },
     "execution_count": 117,
     "metadata": {},
     "output_type": "execute_result"
    }
   ],
   "source": [
    "list(range(10,20,))"
   ]
  },
  {
   "cell_type": "code",
   "execution_count": 123,
   "id": "e32d5146",
   "metadata": {},
   "outputs": [
    {
     "data": {
      "text/plain": [
       "[30, 25, 20, 15]"
      ]
     },
     "execution_count": 123,
     "metadata": {},
     "output_type": "execute_result"
    }
   ],
   "source": [
    "list(range(30,10,-5))"
   ]
  },
  {
   "cell_type": "markdown",
   "id": "38cc8f2b",
   "metadata": {},
   "source": [
    "# Loops\n",
    "- for, while\n",
    "-For loop:::in python is control flow staement bthat is used to execute a group of statements as long as the condition is satisified. such a type of statement is also known as an iterative statement.\n",
    "therefore, a for loop is an iterative statement."
   ]
  },
  {
   "cell_type": "code",
   "execution_count": null,
   "id": "01175ce4",
   "metadata": {},
   "outputs": [],
   "source": [
    "syntax:::\n",
    "    for iter in iterable: # range predefined function in the position of iterable\n",
    "        statement 1\n",
    "        satement 2\n",
    "        statement n"
   ]
  },
  {
   "cell_type": "code",
   "execution_count": 3,
   "id": "0b643928",
   "metadata": {},
   "outputs": [
    {
     "name": "stdout",
     "output_type": "stream",
     "text": [
      "0,1,2,3,4,"
     ]
    }
   ],
   "source": [
    "for i in range(5):\n",
    "    print(i,end=\",\")"
   ]
  },
  {
   "cell_type": "code",
   "execution_count": 4,
   "id": "9bbbe1f4",
   "metadata": {},
   "outputs": [
    {
     "name": "stdout",
     "output_type": "stream",
     "text": [
      "0\n",
      "1\n",
      "2\n",
      "3\n",
      "4\n"
     ]
    }
   ],
   "source": [
    "for i in range(5):\n",
    "    print(i)"
   ]
  },
  {
   "cell_type": "code",
   "execution_count": 5,
   "id": "bffe86d5",
   "metadata": {},
   "outputs": [
    {
     "name": "stdout",
     "output_type": "stream",
     "text": [
      "0 2 4 6 8 10 "
     ]
    }
   ],
   "source": [
    "for i in range(0,11,2):\n",
    "    print(i,end=\" \")"
   ]
  },
  {
   "cell_type": "code",
   "execution_count": 13,
   "id": "3ce3a044",
   "metadata": {},
   "outputs": [
    {
     "name": "stdout",
     "output_type": "stream",
     "text": [
      "0,2,4,6,8,10,12,14,16,18,20,22,24,26,28,30,32,34,36,38,40,42,44,46,48,50,52,54,56,58,60,62,64,66,68,70,72,74,76,78,80,82,84,86,88,90,92,94,96,98,100,\n",
      " even  number count 51\n"
     ]
    }
   ],
   "source": [
    "# print the even numbers in the range of 0-100 and print the even numbers count\n",
    "for n in range (0,101,2):\n",
    "    c=c+1\n",
    "    print(n,end=\",\")\n",
    "print(\"\\n even  number count\",c)"
   ]
  },
  {
   "cell_type": "code",
   "execution_count": 17,
   "id": "06fcf463",
   "metadata": {},
   "outputs": [
    {
     "name": "stdout",
     "output_type": "stream",
     "text": [
      "0 2 4 6 8 10 12 14 16 18 20 22 24 26 28 30 32 34 36 38 40 42 44 46 48 50 52 54 56 58 60 62 64 66 68 70 72 74 76 78 80 82 84 86 88 90 92 94 96 98 100 \n",
      " even  number count: 51\n"
     ]
    }
   ],
   "source": [
    "c=0\n",
    "for n in range (0,101,2):\n",
    "    if n%2==0:\n",
    "        c=c+1\n",
    "        print(n,end=\" \")\n",
    "print(\"\\n even  number count:\",c)"
   ]
  },
  {
   "cell_type": "code",
   "execution_count": 23,
   "id": "64fad91f",
   "metadata": {},
   "outputs": [
    {
     "name": "stdout",
     "output_type": "stream",
     "text": [
      "2000\n",
      "2030\n",
      "2000 2004 2008 2012 2016 2020 2024 2028 \n",
      " ywears count: 8\n"
     ]
    }
   ],
   "source": [
    "# print leap years from range of 2000 t0 2022,\n",
    "x=int(input())\n",
    "y=int(input())\n",
    "c=0\n",
    "for i in range(x,y+1):\n",
    "    if(i%4==0):\n",
    "        c=c+1\n",
    "        print(i,end=\" \")\n",
    "print(\"\\n ywears count:\",c)"
   ]
  },
  {
   "cell_type": "code",
   "execution_count": 16,
   "id": "3fa616cb",
   "metadata": {},
   "outputs": [
    {
     "name": "stdout",
     "output_type": "stream",
     "text": [
      "5\n",
      "25\n",
      "15\n",
      "5 * 15 = 75\n",
      "5 * 16 = 80\n",
      "5 * 17 = 85\n",
      "5 * 18 = 90\n",
      "5 * 19 = 95\n",
      "5 * 20 = 100\n",
      "5 * 21 = 105\n",
      "5 * 22 = 110\n",
      "5 * 23 = 115\n",
      "5 * 24 = 120\n",
      "5 * 25 = 125\n"
     ]
    }
   ],
   "source": [
    "n=int(input())\n",
    "y=int(input())\n",
    "x=int(input())\n",
    "for i in range(x,y+1):\n",
    "    print(n,\"*\",i,\"=\",n*i)"
   ]
  },
  {
   "cell_type": "code",
   "execution_count": 2,
   "id": "eb4ea297",
   "metadata": {},
   "outputs": [
    {
     "name": "stdout",
     "output_type": "stream",
     "text": [
      "6\n",
      "1 2 3 6 "
     ]
    }
   ],
   "source": [
    "# print factord of 5\n",
    "n=int(input())\n",
    "for i in range(1,n+1):\n",
    "    if(n%i==0):\n",
    "        print(i,end=\" \")\n",
    " "
   ]
  },
  {
   "cell_type": "code",
   "execution_count": 14,
   "id": "b502513e",
   "metadata": {},
   "outputs": [
    {
     "name": "stdout",
     "output_type": "stream",
     "text": [
      "Satish\n",
      "620\n"
     ]
    }
   ],
   "source": [
    "# I/P aba\n",
    "#97+98+98=292\n",
    "# o/p 292\n",
    "a=input()\n",
    "s=0\n",
    "for i in a:\n",
    "        s=s+ord(i)\n",
    "print(s)"
   ]
  },
  {
   "cell_type": "code",
   "execution_count": 3,
   "id": "56aba0f6",
   "metadata": {},
   "outputs": [
    {
     "name": "stdout",
     "output_type": "stream",
     "text": [
      "1\n",
      " not prime number\n"
     ]
    }
   ],
   "source": [
    "# check the given number is even or not\n",
    "n=int(input())\n",
    "c=0\n",
    "for i in range(1,n+1):\n",
    "    if(n%i==0):\n",
    "         c=c+1\n",
    "if(c==2):\n",
    "    print(\"prime number\")\n",
    "else:\n",
    "    print(\" not prime number\")"
   ]
  },
  {
   "cell_type": "code",
   "execution_count": 2,
   "id": "53b6dc29",
   "metadata": {},
   "outputs": [
    {
     "name": "stdout",
     "output_type": "stream",
     "text": [
      "5\n",
      "10\n",
      "Even numbers are:6 8 10 \n",
      " odd numbers are: 5 7 9 "
     ]
    }
   ],
   "source": [
    "a=int(input())\n",
    "b=int(input())\n",
    "print(\"Even numbers are:\",end=\"\")\n",
    "for i in range(a,b+1):\n",
    "    if i%2==0:\n",
    "        print(i,end=\" \")\n",
    "print(\"\\n odd numbers are:\",end=\" \")\n",
    "for i in range(a,b+1):\n",
    "      if i%2!=0:\n",
    "          print(i,end=\" \")\n",
    "    "
   ]
  },
  {
   "cell_type": "code",
   "execution_count": null,
   "id": "6a6f781f",
   "metadata": {},
   "outputs": [],
   "source": [
    "\n"
   ]
  },
  {
   "cell_type": "code",
   "execution_count": null,
   "id": "52736038",
   "metadata": {},
   "outputs": [],
   "source": []
  },
  {
   "cell_type": "code",
   "execution_count": null,
   "id": "47b213e7",
   "metadata": {},
   "outputs": [],
   "source": []
  }
 ],
 "metadata": {
  "kernelspec": {
   "display_name": "Python 3 (ipykernel)",
   "language": "python",
   "name": "python3"
  },
  "language_info": {
   "codemirror_mode": {
    "name": "ipython",
    "version": 3
   },
   "file_extension": ".py",
   "mimetype": "text/x-python",
   "name": "python",
   "nbconvert_exporter": "python",
   "pygments_lexer": "ipython3",
   "version": "3.9.7"
  }
 },
 "nbformat": 4,
 "nbformat_minor": 5
}
